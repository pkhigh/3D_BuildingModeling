{
 "cells": [
  {
   "cell_type": "code",
   "execution_count": 16,
   "metadata": {},
   "outputs": [],
   "source": [
    "import os\n",
    "import sys\n",
    "import glob\n",
    "import dlib"
   ]
  },
  {
   "cell_type": "code",
   "execution_count": 17,
   "metadata": {},
   "outputs": [
    {
     "name": "stdout",
     "output_type": "stream",
     "text": [
      "0.1 0.0\n"
     ]
    }
   ],
   "source": [
    "options = dlib.shape_predictor_training_options()\n",
    "print(options.lambda_param,options.oversampling_translation_jitter,)"
   ]
  },
  {
   "cell_type": "code",
   "execution_count": 18,
   "metadata": {},
   "outputs": [],
   "source": [
    "options = dlib.shape_predictor_training_options()\n",
    "options.oversampling_amount = 1\n",
    "options.nu = 0.3\n",
    "options.cascade_depth = 10\n",
    "options.tree_depth = 3\n",
    "options.num_trees_per_cascade_level = 1000\n",
    "options.be_verbose = True\n",
    "options.num_threads = 3"
   ]
  },
  {
   "cell_type": "code",
   "execution_count": 19,
   "metadata": {},
   "outputs": [],
   "source": [
    "MODEL_FOLDER = '/home/jovyan/sync/New/models/'\n",
    "MODEL_NAME = MODEL_FOLDER + 'MODEL_' + str(options.nu) + '_' + str(options.cascade_depth)+ '_' + str(options.tree_depth) + '_' + str(options.num_trees_per_cascade_level) + '.dat'"
   ]
  },
  {
   "cell_type": "code",
   "execution_count": 20,
   "metadata": {},
   "outputs": [
    {
     "name": "stdout",
     "output_type": "stream",
     "text": [
      "/home/jovyan/sync/New/models/MODEL_0.3_10_3_1000.dat\n"
     ]
    }
   ],
   "source": [
    "print(MODEL_NAME)"
   ]
  },
  {
   "cell_type": "code",
   "execution_count": 21,
   "metadata": {},
   "outputs": [],
   "source": [
    "training_xml_path = '/home/jovyan/sync/Training.xml'\n",
    "testing_xml_path = '/home/jovyan/sync/Training.xml'"
   ]
  },
  {
   "cell_type": "code",
   "execution_count": 22,
   "metadata": {},
   "outputs": [
    {
     "name": "stdout",
     "output_type": "stream",
     "text": [
      "Training accuracy: 0.0\n",
      "Test accuracy: 0.0\n"
     ]
    }
   ],
   "source": [
    "dlib.train_shape_predictor(training_xml_path, MODEL_NAME, options)\n",
    "print(\"Training accuracy: {}\".format(dlib.test_shape_predictor(training_xml_path, MODEL_NAME)))\n",
    "print(\"Test accuracy: {}\".format(dlib.test_shape_predictor(testing_xml_path, MODEL_NAME)))"
   ]
  }
 ],
 "metadata": {
  "kernelspec": {
   "display_name": "Python 3",
   "language": "python",
   "name": "python3"
  },
  "language_info": {
   "codemirror_mode": {
    "name": "ipython",
    "version": 3
   },
   "file_extension": ".py",
   "mimetype": "text/x-python",
   "name": "python",
   "nbconvert_exporter": "python",
   "pygments_lexer": "ipython3",
   "version": "3.7.3"
  }
 },
 "nbformat": 4,
 "nbformat_minor": 2
}
