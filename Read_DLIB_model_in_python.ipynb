{
 "cells": [
  {
   "cell_type": "code",
   "execution_count": null,
   "metadata": {},
   "outputs": [],
   "source": [
    "import sys\n",
    "import os\n",
    "import dlib\n",
    "import glob\n",
    "from skimage import io\n",
    "import cv2\n",
    "from imutils import face_utils"
   ]
  },
  {
   "cell_type": "code",
   "execution_count": null,
   "metadata": {},
   "outputs": [],
   "source": [
    "ImageDir = '/home/jovyan/sync/New/saved/'\n",
    "MODEL = '/Users/paraskapoor/Desktop/CONCORDIA/Hackathons/DLIB_DATA/MODEL_0.3_10_3_1000.dat'"
   ]
  },
  {
   "cell_type": "code",
   "execution_count": null,
   "metadata": {},
   "outputs": [],
   "source": [
    "FILENAMES = [name for name in os.listdir(ImageDir) if os.path.isfile(os.path.join(ImageDir, name))]\n",
    "print(FILENAMES)"
   ]
  },
  {
   "cell_type": "code",
   "execution_count": null,
   "metadata": {},
   "outputs": [],
   "source": [
    "%pylab inline\n",
    "import matplotlib.pyplot as plt\n",
    "import matplotlib.image as mpimg\n",
    "img=mpimg.imread(ImageDir + FILENAMES[4])\n",
    "imgplot = plt.imshow(img)\n",
    "plt.show()"
   ]
  },
  {
   "cell_type": "code",
   "execution_count": null,
   "metadata": {},
   "outputs": [],
   "source": [
    "predictor = dlib.shape_predictor(MODEL)"
   ]
  },
  {
   "cell_type": "code",
   "execution_count": null,
   "metadata": {},
   "outputs": [],
   "source": [
    "print(img.shape)\n",
    "rect = dlib.rectangle( 1, 1, 639, 639)\n",
    "shape = predictor(img,rect)\n",
    "shape = face_utils.shape_to_np(shape)"
   ]
  },
  {
   "cell_type": "code",
   "execution_count": null,
   "metadata": {},
   "outputs": [],
   "source": [
    "image = np.copy(img)\n",
    "print(shape)\n",
    "count = 0\n",
    "for (x, y) in shape:\n",
    "    cv2.circle(image, (x, y), 10, (0, 0, 255), -1)\n",
    "    count = count + 1\n",
    "    cv2.putText(image,str(count), (x - 5, y - 5), cv2.FONT_HERSHEY_DUPLEX, 1, 255)#, (0, 0, 255), -1)\n",
    "\n",
    "imgplot = plt.imshow(image)\n",
    "plt.show()\n",
    "\n",
    "cv2.line(image, (shape[0,0],shape[0,1]), (shape[1,0],shape[1,1]), (0,255,0), 2)\n",
    "cv2.line(image, (shape[0,0],shape[0,1]), (shape[3,0],shape[3,1]), (0,255,0), 2)\n",
    "cv2.line(image, (shape[0,0],shape[0,1]), (shape[4,0],shape[4,1]), (0,255,0), 2)\n",
    "\n",
    "cv2.line(image, (shape[1,0],shape[1,1]), (shape[2,0],shape[2,1]), (0,255,0), 2)\n",
    "cv2.line(image, (shape[1,0],shape[1,1]), (shape[5,0],shape[5,1]), (0,255,0), 2)\n",
    "\n",
    "cv2.line(image,(shape[5,0],shape[5,1]), (shape[4,0],shape[4,1]), (0,255,0), 2)\n",
    "cv2.line(image,(shape[5,0],shape[5,1]), (shape[6,0],shape[6,1]), (0,255,0), 2)\n",
    "\n",
    "cv2.line(image, (shape[2,0],shape[2,1]), (shape[3,0],shape[3,1]), (0,255,0), 2)\n",
    "cv2.line(image, (shape[2,0],shape[2,1]), (shape[6,0],shape[6,1]), (0,255,0), 2)\n",
    "\n",
    "cv2.line(image, (shape[7,0],shape[7,1]), (shape[4,0],shape[4,1]), (0,255,0), 2)\n",
    "cv2.line(image, (shape[7,0],shape[7,1]), (shape[6,0],shape[6,1]), (0,255,0), 2)\n",
    "cv2.line(image, (shape[7,0],shape[7,1]), (shape[3,0],shape[3,1]), (0,255,0), 2)\n",
    "\n",
    "cv2.imwrite('/home/jovyan/sync/sample.jpg',image)"
   ]
  },
  {
   "cell_type": "code",
   "execution_count": null,
   "metadata": {},
   "outputs": [],
   "source": [
    "def doSomething(img,newWritePath):\n",
    "    rect = dlib.rectangle( 1, 1, 639, 639)\n",
    "    shape = predictor(img,rect)\n",
    "    shape = face_utils.shape_to_np(shape)\n",
    "    image = np.copy(img)\n",
    "    count = 0\n",
    "    for (x, y) in shape:\n",
    "        cv2.circle(image, (x, y), 10, (0, 0, 255), -1)\n",
    "        count = count + 1\n",
    "        cv2.putText(image,str(count), (x - 5, y - 5), cv2.FONT_HERSHEY_DUPLEX, 1, 255)#, (0, 0, 255), -1)\n",
    "\n",
    "    cv2.line(image, (shape[0,0],shape[0,1]), (shape[1,0],shape[1,1]), (0,255,0), 2)\n",
    "    cv2.line(image, (shape[0,0],shape[0,1]), (shape[3,0],shape[3,1]), (0,255,0), 2)\n",
    "    cv2.line(image, (shape[0,0],shape[0,1]), (shape[4,0],shape[4,1]), (0,255,0), 2)\n",
    "\n",
    "    cv2.line(image, (shape[1,0],shape[1,1]), (shape[2,0],shape[2,1]), (0,255,0), 2)\n",
    "    cv2.line(image, (shape[1,0],shape[1,1]), (shape[5,0],shape[5,1]), (0,255,0), 2)\n",
    "\n",
    "    cv2.line(image,(shape[5,0],shape[5,1]), (shape[4,0],shape[4,1]), (0,255,0), 2)\n",
    "    cv2.line(image,(shape[5,0],shape[5,1]), (shape[6,0],shape[6,1]), (0,255,0), 2)\n",
    "\n",
    "    cv2.line(image, (shape[2,0],shape[2,1]), (shape[3,0],shape[3,1]), (0,255,0), 2)\n",
    "    cv2.line(image, (shape[2,0],shape[2,1]), (shape[6,0],shape[6,1]), (0,255,0), 2)\n",
    "\n",
    "    cv2.line(image, (shape[7,0],shape[7,1]), (shape[4,0],shape[4,1]), (0,255,0), 2)\n",
    "    cv2.line(image, (shape[7,0],shape[7,1]), (shape[6,0],shape[6,1]), (0,255,0), 2)\n",
    "    cv2.line(image, (shape[7,0],shape[7,1]), (shape[3,0],shape[3,1]), (0,255,0), 2)\n",
    "\n",
    "    cv2.imwrite(newWritePath,image)"
   ]
  },
  {
   "cell_type": "code",
   "execution_count": null,
   "metadata": {},
   "outputs": [],
   "source": [
    "newDir = '/home/jovyan/sync/annotatedImages/'"
   ]
  },
  {
   "cell_type": "code",
   "execution_count": null,
   "metadata": {},
   "outputs": [],
   "source": [
    "for filename in FILENAMES:\n",
    "    img = cv2.imread(ImageDir + filename)\n",
    "    newWritePath = newDir + filename \n",
    "    doSomething(img,newWritePath)"
   ]
  }
 ],
 "metadata": {
  "kernelspec": {
   "display_name": "Python 3",
   "language": "python",
   "name": "python3"
  },
  "language_info": {
   "codemirror_mode": {
    "name": "ipython",
    "version": 3
   },
   "file_extension": ".py",
   "mimetype": "text/x-python",
   "name": "python",
   "nbconvert_exporter": "python",
   "pygments_lexer": "ipython3",
   "version": "3.7.4"
  }
 },
 "nbformat": 4,
 "nbformat_minor": 2
}
