{
 "cells": [
  {
   "cell_type": "code",
   "execution_count": 19,
   "metadata": {},
   "outputs": [],
   "source": [
    "import pandas as pd\n",
    "from lxml import etree\n",
    "import os\n",
    "import glob\n",
    "import numpy as np\n",
    "import sys\n",
    "import cv2\n",
    "import random\n",
    "import tqdm\n",
    "from shutil import copyfile"
   ]
  },
  {
   "cell_type": "code",
   "execution_count": 20,
   "metadata": {},
   "outputs": [],
   "source": [
    "FRAMES_DIR = '/home/jovyan/sync/New/saved/'\n",
    "OldXMLFile = '/home/jovyan/sync/New/Training.xml'\n",
    "NewXMLFile = '/home/jovyan/sync/Training.xml'"
   ]
  },
  {
   "cell_type": "code",
   "execution_count": 21,
   "metadata": {},
   "outputs": [],
   "source": [
    "def editpath(src_frame_path):\n",
    "    index = src_frame_path.rfind('/')\n",
    "    dst_frame_path = FRAMES_DIR + src_frame_path[index + 1:]\n",
    "    return dst_frame_path"
   ]
  },
  {
   "cell_type": "code",
   "execution_count": 22,
   "metadata": {},
   "outputs": [],
   "source": [
    "path = OldXMLFile\n",
    "tree = etree.parse(path)\n",
    "root = tree.getroot()\n",
    "for neighbor in root.iter('image'):\n",
    "    src_frame_path = neighbor.attrib['file']\n",
    "    neighbor.attrib['file'] = editpath(src_frame_path)\n",
    "tree.write(file=NewXMLFile,pretty_print=True)"
   ]
  },
  {
   "cell_type": "code",
   "execution_count": null,
   "metadata": {},
   "outputs": [],
   "source": []
  }
 ],
 "metadata": {
  "kernelspec": {
   "display_name": "Python 3",
   "language": "python",
   "name": "python3"
  },
  "language_info": {
   "codemirror_mode": {
    "name": "ipython",
    "version": 3
   },
   "file_extension": ".py",
   "mimetype": "text/x-python",
   "name": "python",
   "nbconvert_exporter": "python",
   "pygments_lexer": "ipython3",
   "version": "3.7.3"
  }
 },
 "nbformat": 4,
 "nbformat_minor": 2
}
