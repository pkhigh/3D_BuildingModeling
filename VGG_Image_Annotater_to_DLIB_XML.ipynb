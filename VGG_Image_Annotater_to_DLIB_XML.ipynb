{
 "cells": [
  {
   "cell_type": "code",
   "execution_count": null,
   "metadata": {},
   "outputs": [],
   "source": [
    "import pandas as pd\n",
    "from lxml import etree\n",
    "import os\n",
    "import glob\n",
    "import numpy as np\n",
    "import sys\n",
    "import cv2\n",
    "import random\n",
    "import tqdm"
   ]
  },
  {
   "cell_type": "code",
   "execution_count": null,
   "metadata": {},
   "outputs": [],
   "source": [
    "#Box class for defining object bounding box\n",
    "class Box(object):\n",
    "    def __init__(self):\n",
    "        self.top = 0\n",
    "        self.left = 0\n",
    "        self.width = 0\n",
    "        self.height = 0\n",
    "    def display(self):\n",
    "        print(self.top,self.left,self.width,self.height)\n",
    "\n",
    "        \n",
    "# Image class which has image address and its facial landmarks\n",
    "class Image(object):\n",
    "    def __init__(self):\n",
    "        self.path = \"\"\n",
    "        self.box = Box()\n",
    "        self.landmarks = [[0 for x in range(2)] for y in range(8)] \n",
    "    def display(self):\n",
    "        print(self.path)\n",
    "        self.box.display()\n",
    "        print(self.landmarks[0],self.landmarks[3])"
   ]
  },
  {
   "cell_type": "code",
   "execution_count": null,
   "metadata": {},
   "outputs": [],
   "source": [
    "#Function to get bounding box of the face landmark points from image\n",
    "def bounding_box_from_annotation():\n",
    "    face_box = Box()\n",
    "    face_box.left = 1\n",
    "    face_box.top = 1\n",
    "    face_box.width = 639\n",
    "    face_box.height = 639    \n",
    "    return face_box    "
   ]
  },
  {
   "cell_type": "code",
   "execution_count": null,
   "metadata": {},
   "outputs": [],
   "source": [
    "def create_image_element(image):\n",
    "    path = image.path\n",
    "    image_e = etree.Element('image')\n",
    "    image_e.set('file', str(path))\n",
    "    faceBox = image.box\n",
    "    box = etree.Element('box')\n",
    "\n",
    "    box.set('top', str(int(faceBox.top)))\n",
    "    box.set('left', str(int(faceBox.left)))\n",
    "    box.set('width', str(int(faceBox.width)))\n",
    "    box.set('height', str(int(faceBox.height)))\n",
    "    \n",
    "    image_e.append(box)\n",
    "    #create landmarks for the bounding box\n",
    "    for k in range(len(image.landmarks)):\n",
    "        landmark = etree.Element('part')\n",
    "        landmark.set('name',str(int(k)))\n",
    "        landmark.set('x',str(int(image.landmarks[k][0])))\n",
    "        landmark.set('y',str(int(image.landmarks[k][1])))\n",
    "        box.append(landmark)   \n",
    "    return image_e"
   ]
  },
  {
   "cell_type": "code",
   "execution_count": null,
   "metadata": {},
   "outputs": [],
   "source": [
    "def create_dlib_xml(images):\n",
    "    root = etree.Element('dataset')\n",
    "    root.append(etree.Element('name'))\n",
    "    root.append(etree.Element('comment'))\n",
    "\n",
    "    images_e = etree.Element('images')\n",
    "    root.append(images_e)\n",
    "    \n",
    "    for i in images:\n",
    "        #i.display()\n",
    "        images_e.append(create_image_element(i))\n",
    "\n",
    "    et = etree.ElementTree(root)\n",
    "    return et"
   ]
  },
  {
   "cell_type": "code",
   "execution_count": null,
   "metadata": {},
   "outputs": [],
   "source": [
    "SaveDir = '/Users/paraskapoor/Desktop/CONCORDIA/Hackathons/DLIB_DATA/New/saved/'\n",
    "XML_FILE = '/Users/paraskapoor/Desktop/CONCORDIA/Hackathons/DLIB_DATA/New/'\n",
    "ImageDir = '/Users/paraskapoor/Desktop/CONCORDIA/Hackathons/DLIB_DATA/sample/'\n",
    "AnnotationFile = '/Users/paraskapoor/Desktop/CONCORDIA/Hackathons/DLIB_DATA/sample/via_export_csv.csv'"
   ]
  },
  {
   "cell_type": "code",
   "execution_count": null,
   "metadata": {},
   "outputs": [],
   "source": [
    "STANDARD_IMAGE_SHAPE = (640,640)"
   ]
  },
  {
   "cell_type": "code",
   "execution_count": null,
   "metadata": {},
   "outputs": [],
   "source": [
    "import re\n",
    "import csv\n",
    "\n",
    "pattern = r\"{\\\"name\\\":\\\"point\\\",\\\"cx\\\":(\\d+),\\\"cy\\\":(\\d+)}\"\n",
    "count = 0\n",
    "DICT = {}\n",
    "with open(AnnotationFile) as csvfile:\n",
    "    readCSV = csv.reader(csvfile, delimiter=',')\n",
    "    for row in readCSV:\n",
    "        if count == 0:\n",
    "            count = 1\n",
    "            continue\n",
    "        if len(row[5]) > 2:\n",
    "            Points = row[5]\n",
    "            m = re.search(pattern,Points)\n",
    "            point = [float(m.groups()[0]),float(m.groups()[1])]\n",
    "            filename = row[0]\n",
    "            if filename in DICT.keys():\n",
    "                DICT[filename].append(point)\n",
    "            else:\n",
    "                DICT[filename] = []\n",
    "                DICT[filename].append(point)\n",
    "print(DICT)"
   ]
  },
  {
   "cell_type": "code",
   "execution_count": null,
   "metadata": {},
   "outputs": [],
   "source": [
    "IMAGES = []\n",
    "image_index_global = 0\n",
    "for filename in DICT.keys():\n",
    "    framepath = ImageDir + filename\n",
    "    \n",
    "    image = cv2.imread(framepath)\n",
    "    height,width,_ = image.shape\n",
    "    \n",
    "    image = cv2.resize(image,(640,640))\n",
    "    \n",
    "    framepath = SaveDir + filename\n",
    "    cv2.imwrite(framepath,image)\n",
    "    \n",
    "    print(framepath)\n",
    "    IMAGES.extend([Image()])\n",
    "    IMAGES[image_index_global].path = framepath\n",
    "\n",
    "    for idx in range(8):\n",
    "        IMAGES[image_index_global].landmarks[idx][0] = int(DICT[filename][idx][0]*640/width)\n",
    "        IMAGES[image_index_global].landmarks[idx][1] = int(DICT[filename][idx][1]*640/height)\n",
    "    IMAGES[image_index_global].box = bounding_box_from_annotation()\n",
    "    image_index_global = image_index_global + 1"
   ]
  },
  {
   "cell_type": "code",
   "execution_count": null,
   "metadata": {},
   "outputs": [],
   "source": [
    "et = create_dlib_xml(IMAGES)\n",
    "loc = XML_FILE + 'Training.xml'\n",
    "et.write(file=loc,pretty_print=True)"
   ]
  },
  {
   "cell_type": "code",
   "execution_count": null,
   "metadata": {},
   "outputs": [],
   "source": []
  }
 ],
 "metadata": {
  "kernelspec": {
   "display_name": "Python 3",
   "language": "python",
   "name": "python3"
  },
  "language_info": {
   "codemirror_mode": {
    "name": "ipython",
    "version": 3
   },
   "file_extension": ".py",
   "mimetype": "text/x-python",
   "name": "python",
   "nbconvert_exporter": "python",
   "pygments_lexer": "ipython3",
   "version": "3.7.4"
  }
 },
 "nbformat": 4,
 "nbformat_minor": 2
}
